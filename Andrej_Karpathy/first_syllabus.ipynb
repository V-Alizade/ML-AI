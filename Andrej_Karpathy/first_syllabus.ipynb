{
 "cells": [
  {
   "cell_type": "markdown",
   "metadata": {},
   "source": [
    "# Building microgrand \n",
    "## The spelled-out intro to neural networks and backpropagation\n",
    "\n",
    " \n",
    "Neural networks are just a mathematical expression: they take input data as an input and they take the weights of a neural network as an input and it is a mathematical expression and the output are your predictions of your neural net or the loss function. we will see this in a bit. "
   ]
  },
  {
   "cell_type": "markdown",
   "metadata": {},
   "source": []
  }
 ],
 "metadata": {
  "language_info": {
   "name": "python"
  }
 },
 "nbformat": 4,
 "nbformat_minor": 2
}
